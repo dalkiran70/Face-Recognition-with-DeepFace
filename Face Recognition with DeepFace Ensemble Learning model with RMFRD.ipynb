{
 "cells": [
  {
   "cell_type": "code",
   "execution_count": 1,
   "metadata": {},
   "outputs": [
    {
     "name": "stdout",
     "output_type": "stream",
     "text": [
      "Requirement already satisfied: deepface in ./opt/anaconda/anaconda3/lib/python3.8/site-packages (0.0.34)\n",
      "Requirement already satisfied: pandas>=0.23.4 in ./opt/anaconda/anaconda3/lib/python3.8/site-packages (from deepface) (1.0.5)\n",
      "Requirement already satisfied: tqdm>=4.30.0 in ./opt/anaconda/anaconda3/lib/python3.8/site-packages (from deepface) (4.47.0)\n",
      "Requirement already satisfied: Flask>=1.1.2 in ./opt/anaconda/anaconda3/lib/python3.8/site-packages (from deepface) (1.1.2)\n",
      "Requirement already satisfied: numpy>=1.14.0 in ./opt/anaconda/anaconda3/lib/python3.8/site-packages (from deepface) (1.18.5)\n",
      "Requirement already satisfied: gdown>=3.10.1 in ./opt/anaconda/anaconda3/lib/python3.8/site-packages (from deepface) (3.12.2)\n",
      "Requirement already satisfied: tensorflow>=1.9.0 in ./opt/anaconda/anaconda3/lib/python3.8/site-packages (from deepface) (2.3.0)\n",
      "Requirement already satisfied: Pillow>=5.2.0 in ./opt/anaconda/anaconda3/lib/python3.8/site-packages (from deepface) (7.2.0)\n",
      "Requirement already satisfied: opencv-python>=3.4.4 in ./opt/anaconda/anaconda3/lib/python3.8/site-packages (from deepface) (4.4.0.42)\n",
      "Requirement already satisfied: keras>=2.2.0 in ./opt/anaconda/anaconda3/lib/python3.8/site-packages (from deepface) (2.4.3)\n",
      "Requirement already satisfied: python-dateutil>=2.6.1 in ./opt/anaconda/anaconda3/lib/python3.8/site-packages (from pandas>=0.23.4->deepface) (2.8.1)\n",
      "Requirement already satisfied: pytz>=2017.2 in ./opt/anaconda/anaconda3/lib/python3.8/site-packages (from pandas>=0.23.4->deepface) (2020.1)\n",
      "Requirement already satisfied: click>=5.1 in ./opt/anaconda/anaconda3/lib/python3.8/site-packages (from Flask>=1.1.2->deepface) (7.1.2)\n",
      "Requirement already satisfied: Werkzeug>=0.15 in ./opt/anaconda/anaconda3/lib/python3.8/site-packages (from Flask>=1.1.2->deepface) (1.0.1)\n",
      "Requirement already satisfied: itsdangerous>=0.24 in ./opt/anaconda/anaconda3/lib/python3.8/site-packages (from Flask>=1.1.2->deepface) (1.1.0)\n",
      "Requirement already satisfied: Jinja2>=2.10.1 in ./opt/anaconda/anaconda3/lib/python3.8/site-packages (from Flask>=1.1.2->deepface) (2.11.2)\n",
      "Requirement already satisfied: filelock in ./opt/anaconda/anaconda3/lib/python3.8/site-packages (from gdown>=3.10.1->deepface) (3.0.12)\n",
      "Requirement already satisfied: requests[socks] in ./opt/anaconda/anaconda3/lib/python3.8/site-packages (from gdown>=3.10.1->deepface) (2.24.0)\n",
      "Requirement already satisfied: six in ./opt/anaconda/anaconda3/lib/python3.8/site-packages (from gdown>=3.10.1->deepface) (1.15.0)\n",
      "Requirement already satisfied: gast==0.3.3 in ./opt/anaconda/anaconda3/lib/python3.8/site-packages (from tensorflow>=1.9.0->deepface) (0.3.3)\n",
      "Requirement already satisfied: google-pasta>=0.1.8 in ./opt/anaconda/anaconda3/lib/python3.8/site-packages (from tensorflow>=1.9.0->deepface) (0.2.0)\n",
      "Requirement already satisfied: wheel>=0.26 in ./opt/anaconda/anaconda3/lib/python3.8/site-packages (from tensorflow>=1.9.0->deepface) (0.34.2)\n",
      "Requirement already satisfied: tensorflow-estimator<2.4.0,>=2.3.0 in ./opt/anaconda/anaconda3/lib/python3.8/site-packages (from tensorflow>=1.9.0->deepface) (2.3.0)\n",
      "Requirement already satisfied: scipy==1.4.1 in ./opt/anaconda/anaconda3/lib/python3.8/site-packages (from tensorflow>=1.9.0->deepface) (1.4.1)\n",
      "Requirement already satisfied: protobuf>=3.9.2 in ./opt/anaconda/anaconda3/lib/python3.8/site-packages (from tensorflow>=1.9.0->deepface) (3.13.0)\n",
      "Requirement already satisfied: wrapt>=1.11.1 in ./opt/anaconda/anaconda3/lib/python3.8/site-packages (from tensorflow>=1.9.0->deepface) (1.11.2)\n",
      "Requirement already satisfied: tensorboard<3,>=2.3.0 in ./opt/anaconda/anaconda3/lib/python3.8/site-packages (from tensorflow>=1.9.0->deepface) (2.3.0)\n",
      "Requirement already satisfied: keras-preprocessing<1.2,>=1.1.1 in ./opt/anaconda/anaconda3/lib/python3.8/site-packages (from tensorflow>=1.9.0->deepface) (1.1.2)\n",
      "Requirement already satisfied: grpcio>=1.8.6 in ./opt/anaconda/anaconda3/lib/python3.8/site-packages (from tensorflow>=1.9.0->deepface) (1.31.0)\n",
      "Requirement already satisfied: opt-einsum>=2.3.2 in ./opt/anaconda/anaconda3/lib/python3.8/site-packages (from tensorflow>=1.9.0->deepface) (3.3.0)\n",
      "Requirement already satisfied: astunparse==1.6.3 in ./opt/anaconda/anaconda3/lib/python3.8/site-packages (from tensorflow>=1.9.0->deepface) (1.6.3)\n",
      "Requirement already satisfied: h5py<2.11.0,>=2.10.0 in ./opt/anaconda/anaconda3/lib/python3.8/site-packages (from tensorflow>=1.9.0->deepface) (2.10.0)\n",
      "Requirement already satisfied: absl-py>=0.7.0 in ./opt/anaconda/anaconda3/lib/python3.8/site-packages (from tensorflow>=1.9.0->deepface) (0.10.0)\n",
      "Requirement already satisfied: termcolor>=1.1.0 in ./opt/anaconda/anaconda3/lib/python3.8/site-packages (from tensorflow>=1.9.0->deepface) (1.1.0)\n",
      "Requirement already satisfied: pyyaml in ./opt/anaconda/anaconda3/lib/python3.8/site-packages (from keras>=2.2.0->deepface) (5.3.1)\n",
      "Requirement already satisfied: MarkupSafe>=0.23 in ./opt/anaconda/anaconda3/lib/python3.8/site-packages (from Jinja2>=2.10.1->Flask>=1.1.2->deepface) (1.1.1)\n",
      "Requirement already satisfied: urllib3!=1.25.0,!=1.25.1,<1.26,>=1.21.1 in ./opt/anaconda/anaconda3/lib/python3.8/site-packages (from requests[socks]->gdown>=3.10.1->deepface) (1.25.9)\n",
      "Requirement already satisfied: chardet<4,>=3.0.2 in ./opt/anaconda/anaconda3/lib/python3.8/site-packages (from requests[socks]->gdown>=3.10.1->deepface) (3.0.4)\n",
      "Requirement already satisfied: certifi>=2017.4.17 in ./opt/anaconda/anaconda3/lib/python3.8/site-packages (from requests[socks]->gdown>=3.10.1->deepface) (2020.6.20)\n",
      "Requirement already satisfied: idna<3,>=2.5 in ./opt/anaconda/anaconda3/lib/python3.8/site-packages (from requests[socks]->gdown>=3.10.1->deepface) (2.10)\n",
      "Requirement already satisfied: PySocks!=1.5.7,>=1.5.6; extra == \"socks\" in ./opt/anaconda/anaconda3/lib/python3.8/site-packages (from requests[socks]->gdown>=3.10.1->deepface) (1.7.1)\n",
      "Requirement already satisfied: setuptools in ./opt/anaconda/anaconda3/lib/python3.8/site-packages (from protobuf>=3.9.2->tensorflow>=1.9.0->deepface) (49.2.0.post20200714)\n",
      "Requirement already satisfied: google-auth-oauthlib<0.5,>=0.4.1 in ./opt/anaconda/anaconda3/lib/python3.8/site-packages (from tensorboard<3,>=2.3.0->tensorflow>=1.9.0->deepface) (0.4.1)\n",
      "Requirement already satisfied: tensorboard-plugin-wit>=1.6.0 in ./opt/anaconda/anaconda3/lib/python3.8/site-packages (from tensorboard<3,>=2.3.0->tensorflow>=1.9.0->deepface) (1.7.0)\n",
      "Requirement already satisfied: markdown>=2.6.8 in ./opt/anaconda/anaconda3/lib/python3.8/site-packages (from tensorboard<3,>=2.3.0->tensorflow>=1.9.0->deepface) (3.2.2)\n",
      "Requirement already satisfied: google-auth<2,>=1.6.3 in ./opt/anaconda/anaconda3/lib/python3.8/site-packages (from tensorboard<3,>=2.3.0->tensorflow>=1.9.0->deepface) (1.20.1)\n",
      "Requirement already satisfied: requests-oauthlib>=0.7.0 in ./opt/anaconda/anaconda3/lib/python3.8/site-packages (from google-auth-oauthlib<0.5,>=0.4.1->tensorboard<3,>=2.3.0->tensorflow>=1.9.0->deepface) (1.3.0)\n",
      "Requirement already satisfied: cachetools<5.0,>=2.0.0 in ./opt/anaconda/anaconda3/lib/python3.8/site-packages (from google-auth<2,>=1.6.3->tensorboard<3,>=2.3.0->tensorflow>=1.9.0->deepface) (4.1.1)\n",
      "Requirement already satisfied: rsa<5,>=3.1.4; python_version >= \"3.5\" in ./opt/anaconda/anaconda3/lib/python3.8/site-packages (from google-auth<2,>=1.6.3->tensorboard<3,>=2.3.0->tensorflow>=1.9.0->deepface) (4.6)\n",
      "Requirement already satisfied: pyasn1-modules>=0.2.1 in ./opt/anaconda/anaconda3/lib/python3.8/site-packages (from google-auth<2,>=1.6.3->tensorboard<3,>=2.3.0->tensorflow>=1.9.0->deepface) (0.2.8)\n",
      "Requirement already satisfied: oauthlib>=3.0.0 in ./opt/anaconda/anaconda3/lib/python3.8/site-packages (from requests-oauthlib>=0.7.0->google-auth-oauthlib<0.5,>=0.4.1->tensorboard<3,>=2.3.0->tensorflow>=1.9.0->deepface) (3.1.0)\n",
      "Requirement already satisfied: pyasn1>=0.1.3 in ./opt/anaconda/anaconda3/lib/python3.8/site-packages (from rsa<5,>=3.1.4; python_version >= \"3.5\"->google-auth<2,>=1.6.3->tensorboard<3,>=2.3.0->tensorflow>=1.9.0->deepface) (0.4.8)\n",
      "Note: you may need to restart the kernel to use updated packages.\n"
     ]
    }
   ],
   "source": [
    "pip install deepface"
   ]
  },
  {
   "cell_type": "code",
   "execution_count": 2,
   "metadata": {},
   "outputs": [],
   "source": [
    "from deepface import DeepFace\n",
    "import pandas as pd\n",
    "import numpy as np\n",
    "import cv2\n",
    "import matplotlib.pyplot as plt"
   ]
  },
  {
   "cell_type": "code",
   "execution_count": 3,
   "metadata": {},
   "outputs": [],
   "source": [
    "img_class = \"aidai\"\n",
    "img_path = \"Desktop/data/masked_face/AFDB_masked_face_dataset/\" + img_class + \"/0_0_0.jpg\"\n",
    "db_path = \"Desktop/data/masked_face/AFDB_face_dataset\""
   ]
  },
  {
   "cell_type": "code",
   "execution_count": null,
   "metadata": {},
   "outputs": [],
   "source": [
    "img_class = \"caoying\"\n",
    "img_path = \"Desktop/data/masked_face/AFDB_masked_face_dataset/\" + img_class + \"/0_0_0.jpg\"\n",
    "db_path = \"Desktop/data/masked_face/AFDB_face_dataset\"\n"
   ]
  },
  {
   "cell_type": "code",
   "execution_count": null,
   "metadata": {},
   "outputs": [],
   "source": [
    "df = DeepFace.find(img_path = img_path, db_path = db_path, enforce_detection = False, model_name = \"Ensemble\" )\n"
   ]
  },
  {
   "cell_type": "code",
   "execution_count": null,
   "metadata": {},
   "outputs": [],
   "source": [
    "for i in range(len(df)):\n",
    "    if (df.identity.iloc[i].find(img_class) != -1):\n",
    "        print(df.score.iloc[i], \"**\", i)\n",
    "        index = i\n",
    "        break"
   ]
  },
  {
   "cell_type": "code",
   "execution_count": null,
   "metadata": {},
   "outputs": [],
   "source": [
    "\n",
    "searching_image_path = img_path\n",
    "img = cv2.imread(searching_image_path)\n",
    "img = cv2.cvtColor(img, cv2.COLOR_BGR2RGB)\n",
    "\n",
    "\n",
    "plt.figure(figsize=(10,5))\n",
    "plt.subplot(1, 3, 1)\n",
    "plt.imshow(img)\n",
    "plt.title(\"Searching Image : %s \"  %(img_class ))\n",
    "\n",
    "first_predicted_image_path = df.identity.iloc[0]\n",
    "temp = first_predicted_image_path.split('/')[4]\n",
    "result1 = df.score.iloc[0]\n",
    "img = cv2.imread(first_predicted_image_path)\n",
    "img = cv2.cvtColor(img, cv2.COLOR_BGR2RGB)\n",
    "plt.subplot(1, 3, 2)\n",
    "plt.imshow(img)\n",
    "plt.title(\"First Predicted Person :%s (%f)\" % (temp, result1))\n",
    "true_predicted_image_path = df.identity.iloc[index]\n",
    "temp = true_predicted_image_path.split('/')[4]\n",
    "result2 = df.score.iloc[index]\n",
    "img = cv2.imread(true_predicted_image_path)\n",
    "img = cv2.cvtColor(img, cv2.COLOR_BGR2RGB)\n",
    "plt.subplot(1, 3, 3)\n",
    "plt.imshow(img)\n",
    "plt.title(\"True Predicted Person :%s (%f)\" % (temp, result2))\n",
    "error = (abs(result1-result2)/result1) * 100\n",
    "plt.tight_layout()\n",
    "plt.show()\n",
    "print(\"Error : %f %s Found index: %d\" %(error,\"%\",index))"
   ]
  }
 ],
 "metadata": {
  "kernelspec": {
   "display_name": "Python 3",
   "language": "python",
   "name": "python3"
  },
  "language_info": {
   "codemirror_mode": {
    "name": "ipython",
    "version": 3
   },
   "file_extension": ".py",
   "mimetype": "text/x-python",
   "name": "python",
   "nbconvert_exporter": "python",
   "pygments_lexer": "ipython3",
   "version": "3.8.3"
  }
 },
 "nbformat": 4,
 "nbformat_minor": 4
}
